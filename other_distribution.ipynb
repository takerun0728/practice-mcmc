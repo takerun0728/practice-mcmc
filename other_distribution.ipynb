{
 "cells": [
  {
   "cell_type": "code",
   "execution_count": 59,
   "id": "5a91d12f-77dc-45ff-b749-6ac6ca6fc5aa",
   "metadata": {},
   "outputs": [],
   "source": [
    "import numpy as np\n",
    "import matplotlib.pyplot as plt"
   ]
  },
  {
   "cell_type": "code",
   "execution_count": 80,
   "id": "50ee62fa-6f9b-415b-a781-685381295962",
   "metadata": {},
   "outputs": [],
   "source": [
    "N = 10000000\n",
    "C = 4"
   ]
  },
  {
   "cell_type": "code",
   "execution_count": 81,
   "id": "9cdef926-d8c4-4d5e-87fe-8548e8bac030",
   "metadata": {},
   "outputs": [],
   "source": [
    "c1 = 100\n",
    "c2 = 0\n",
    "def s(x):\n",
    "    return -np.log(np.exp(-(x - c1)**2 / 2) + np.exp(-(x - c2)**2 / 2))"
   ]
  },
  {
   "cell_type": "code",
   "execution_count": 82,
   "id": "4a27a4dd-54bd-498e-bb62-892434bd15f8",
   "metadata": {},
   "outputs": [],
   "source": [
    "def s(x):\n",
    "    if x >= 0:\n",
    "        return (x**2 / 2) - np.log(1 / np.sqrt(2 * np.pi))\n",
    "    elif x < -1:\n",
    "        return np.inf\n",
    "    else:\n",
    "        return -np.log(2 / np.pi * np.sqrt(1 - x**2))"
   ]
  },
  {
   "cell_type": "code",
   "execution_count": 83,
   "id": "77d79ddf-0670-4ac6-b0de-94cb106d2515",
   "metadata": {},
   "outputs": [],
   "source": [
    "rng = np.random.default_rng()"
   ]
  },
  {
   "cell_type": "code",
   "execution_count": 84,
   "id": "94795ba6-3017-4508-bf55-15cd70c03d8b",
   "metadata": {},
   "outputs": [
    {
     "data": {
      "text/plain": [
       "(array([1.44040486e-01, 2.60564932e-01, 3.31554605e-01, 3.85205755e-01,\n",
       "        4.32840976e-01, 4.66882248e-01, 5.01535367e-01, 5.30377646e-01,\n",
       "        5.51441944e-01, 5.69409405e-01, 5.84363774e-01, 5.95701750e-01,\n",
       "        6.16371252e-01, 6.20862690e-01, 6.33171418e-01, 6.28218530e-01,\n",
       "        6.35487208e-01, 4.21207331e-01, 4.02756203e-01, 3.96213880e-01,\n",
       "        3.89433997e-01, 3.82995927e-01, 3.80020435e-01, 3.71155484e-01,\n",
       "        3.62439223e-01, 3.54608261e-01, 3.41896193e-01, 3.28474860e-01,\n",
       "        3.17625678e-01, 3.06135595e-01, 2.95954661e-01, 2.76317437e-01,\n",
       "        2.64442814e-01, 2.49830258e-01, 2.38922969e-01, 2.22797886e-01,\n",
       "        2.09549169e-01, 1.96297034e-01, 1.84107941e-01, 1.68487034e-01,\n",
       "        1.56976443e-01, 1.44623279e-01, 1.32943489e-01, 1.19614446e-01,\n",
       "        1.09864197e-01, 9.94286111e-02, 9.24487660e-02, 8.21960504e-02,\n",
       "        7.41411998e-02, 6.63375826e-02, 5.92603204e-02, 5.23402928e-02,\n",
       "        4.61722564e-02, 4.13099500e-02, 3.58836502e-02, 3.18434069e-02,\n",
       "        2.85004644e-02, 2.48806525e-02, 2.07207742e-02, 1.86066536e-02,\n",
       "        1.60618472e-02, 1.33991150e-02, 1.15567367e-02, 1.01706802e-02,\n",
       "        8.84444132e-03, 7.09093469e-03, 5.98345682e-03, 5.12892143e-03,\n",
       "        4.16500551e-03, 3.36174224e-03, 3.23185286e-03, 2.54651547e-03,\n",
       "        2.14830198e-03, 1.75521570e-03, 1.43391039e-03, 1.13824114e-03,\n",
       "        8.40862827e-04, 8.27190260e-04, 6.57992253e-04, 4.54612829e-04,\n",
       "        4.06758847e-04, 3.67450219e-04, 3.04214600e-04, 2.49524335e-04,\n",
       "        2.06797565e-04, 9.22898224e-05, 1.12798672e-04, 8.71626101e-05,\n",
       "        7.00719022e-05, 6.66537607e-05, 3.24723449e-05, 3.75995573e-05,\n",
       "        3.24723449e-05, 1.19634955e-05, 1.36725663e-05, 5.12721236e-06,\n",
       "        6.83628314e-06, 8.54535393e-06, 0.00000000e+00, 5.12721236e-06]),\n",
       " array([-0.99991642, -0.9414051 , -0.88289377, -0.82438244, -0.76587111,\n",
       "        -0.70735979, -0.64884846, -0.59033713, -0.53182581, -0.47331448,\n",
       "        -0.41480315, -0.35629182, -0.2977805 , -0.23926917, -0.18075784,\n",
       "        -0.12224652, -0.06373519, -0.00522386,  0.05328747,  0.11179879,\n",
       "         0.17031012,  0.22882145,  0.28733278,  0.3458441 ,  0.40435543,\n",
       "         0.46286676,  0.52137808,  0.57988941,  0.63840074,  0.69691207,\n",
       "         0.75542339,  0.81393472,  0.87244605,  0.93095737,  0.9894687 ,\n",
       "         1.04798003,  1.10649136,  1.16500268,  1.22351401,  1.28202534,\n",
       "         1.34053667,  1.39904799,  1.45755932,  1.51607065,  1.57458197,\n",
       "         1.6330933 ,  1.69160463,  1.75011596,  1.80862728,  1.86713861,\n",
       "         1.92564994,  1.98416126,  2.04267259,  2.10118392,  2.15969525,\n",
       "         2.21820657,  2.2767179 ,  2.33522923,  2.39374056,  2.45225188,\n",
       "         2.51076321,  2.56927454,  2.62778586,  2.68629719,  2.74480852,\n",
       "         2.80331985,  2.86183117,  2.9203425 ,  2.97885383,  3.03736515,\n",
       "         3.09587648,  3.15438781,  3.21289914,  3.27141046,  3.32992179,\n",
       "         3.38843312,  3.44694445,  3.50545577,  3.5639671 ,  3.62247843,\n",
       "         3.68098975,  3.73950108,  3.79801241,  3.85652374,  3.91503506,\n",
       "         3.97354639,  4.03205772,  4.09056904,  4.14908037,  4.2075917 ,\n",
       "         4.26610303,  4.32461435,  4.38312568,  4.44163701,  4.50014834,\n",
       "         4.55865966,  4.61717099,  4.67568232,  4.73419364,  4.79270497,\n",
       "         4.8512163 ]),\n",
       " <a list of 100 Patch objects>)"
      ]
     },
     "execution_count": 84,
     "metadata": {},
     "output_type": "execute_result"
    },
    {
     "data": {
      "image/png": "[encoded data removed]",
      "text/plain": [
       "<Figure size 432x288 with 1 Axes>"
      ]
     },
     "metadata": {
      "needs_background": "light"
     },
     "output_type": "display_data"
    }
   ],
   "source": [
    "samples = []\n",
    "update_cnt = 0\n",
    "x = 0\n",
    "for _ in range(N):\n",
    "    dt = (rng.random() - 0.5) * C * 2\n",
    "    #dt = rng.normal() * C\n",
    "    if rng.random() < np.exp(s(x) - s(x + dt)):\n",
    "        x = x + dt\n",
    "        update_cnt += 1\n",
    "    samples.append(x)\n",
    "samples = np.array(samples)\n",
    "plt.hist(np.array(samples), bins=100, density=True)"
   ]
  },
  {
   "cell_type": "code",
   "execution_count": null,
   "id": "8aba0d55-b5ce-48fd-8140-e3ea3d99e959",
   "metadata": {},
   "outputs": [],
   "source": []
  }
 ],
 "metadata": {
  "kernelspec": {
   "display_name": "Python 3 (ipykernel)",
   "language": "python",
   "name": "python3"
  },
  "language_info": {
   "codemirror_mode": {
    "name": "ipython",
    "version": 3
   },
   "file_extension": ".py",
   "mimetype": "text/x-python",
   "name": "python",
   "nbconvert_exporter": "python",
   "pygments_lexer": "ipython3",
   "version": "3.8.10"
  }
 },
 "nbformat": 4,
 "nbformat_minor": 5
}
