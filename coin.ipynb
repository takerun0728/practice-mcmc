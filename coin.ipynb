{
 "cells": [
  {
   "cell_type": "code",
   "execution_count": 7,
   "id": "ae317457-5761-4aa3-bb75-e57e55e4c70b",
   "metadata": {},
   "outputs": [],
   "source": [
    "import numpy as np\n",
    "import matplotlib.pyplot as plt"
   ]
  },
  {
   "cell_type": "code",
   "execution_count": 22,
   "id": "18198605-2061-4ac7-8e19-dfcbc8876eb6",
   "metadata": {},
   "outputs": [],
   "source": [
    "N = 1000000\n",
    "C = 1"
   ]
  },
  {
   "cell_type": "code",
   "execution_count": 23,
   "id": "3d08a24b-1d4b-4dbf-bea5-3800da0ab98a",
   "metadata": {},
   "outputs": [],
   "source": [
    "def s(x):\n",
    "    return -515 * np.log(x) - 485 * np.log(1 - x) + 100 * (x - 0.9)**2"
   ]
  },
  {
   "cell_type": "code",
   "execution_count": 24,
   "id": "68b10952-fd84-46e7-a922-ef4585358e76",
   "metadata": {},
   "outputs": [],
   "source": [
    "rng = np.random.default_rng()"
   ]
  },
  {
   "cell_type": "code",
   "execution_count": 25,
   "id": "364738b9-3fe4-48ce-a575-43bd0ed4473b",
   "metadata": {},
   "outputs": [
    {
     "name": "stderr",
     "output_type": "stream",
     "text": [
      "/tmp/ipykernel_220000/801025510.py:2: RuntimeWarning: invalid value encountered in log\n",
      "  return -515 * np.log(x) - 485 * np.log(1 - x) + 100 * (x - 0.9)**2\n"
     ]
    },
    {
     "data": {
      "text/plain": [
       "(array([6.17597687e-03, 0.00000000e+00, 0.00000000e+00, 3.63696416e-02,\n",
       "        0.00000000e+00, 0.00000000e+00, 0.00000000e+00, 3.36247630e-02,\n",
       "        0.00000000e+00, 2.19590289e-02, 0.00000000e+00, 1.09795144e-02,\n",
       "        8.85223352e-02, 8.16601387e-02, 6.72495260e-02, 1.28323075e-01,\n",
       "        1.55771861e-01, 2.33314682e-01, 3.32130312e-01, 2.05179676e-01,\n",
       "        4.45356555e-01, 5.03685225e-01, 6.30635861e-01, 1.36351845e+00,\n",
       "        9.95704716e-01, 1.39439833e+00, 1.79515061e+00, 2.17737496e+00,\n",
       "        2.73801641e+00, 3.55599024e+00, 4.52699105e+00, 5.89119572e+00,\n",
       "        6.53898707e+00, 6.77847773e+00, 7.51479142e+00, 1.15888775e+01,\n",
       "        1.03063330e+01, 1.44572756e+01, 1.29071054e+01, 1.41930811e+01,\n",
       "        1.53665167e+01, 1.72172511e+01, 1.79069018e+01, 2.01151567e+01,\n",
       "        2.43546217e+01, 2.50030993e+01, 2.32978434e+01, 2.37383964e+01,\n",
       "        2.75366222e+01, 2.49605536e+01, 2.61634967e+01, 2.57970554e+01,\n",
       "        2.32655911e+01, 2.43889327e+01, 2.34968471e+01, 2.30789394e+01,\n",
       "        2.36793816e+01, 2.10628260e+01, 1.98029267e+01, 1.66723927e+01,\n",
       "        1.63786907e+01, 1.52306452e+01, 1.42198436e+01, 1.24720422e+01,\n",
       "        1.17295525e+01, 1.00071412e+01, 8.28610231e+00, 6.99120582e+00,\n",
       "        5.59131773e+00, 4.94970235e+00, 4.23740636e+00, 3.55873512e+00,\n",
       "        2.49440844e+00, 2.37226134e+00, 1.89328002e+00, 1.70662828e+00,\n",
       "        8.64636762e-01, 1.25097843e+00, 9.80607884e-01, 5.05743884e-01,\n",
       "        5.35937549e-01, 4.30945942e-01, 3.01936647e-01, 1.96258821e-01,\n",
       "        7.54841618e-02, 1.46851006e-01, 5.35251329e-02, 1.50968324e-02,\n",
       "        1.23519537e-02, 3.70558612e-02, 1.23519537e-02, 4.80353757e-02,\n",
       "        2.05865896e-03, 7.54841618e-03, 0.00000000e+00, 0.00000000e+00,\n",
       "        2.74487861e-03, 0.00000000e+00, 0.00000000e+00, 1.09795144e-02]),\n",
       " array([0.45956057, 0.46101783, 0.46247509, 0.46393235, 0.46538961,\n",
       "        0.46684687, 0.46830412, 0.46976138, 0.47121864, 0.4726759 ,\n",
       "        0.47413316, 0.47559042, 0.47704768, 0.47850494, 0.4799622 ,\n",
       "        0.48141946, 0.48287672, 0.48433398, 0.48579124, 0.4872485 ,\n",
       "        0.48870576, 0.49016302, 0.49162027, 0.49307753, 0.49453479,\n",
       "        0.49599205, 0.49744931, 0.49890657, 0.50036383, 0.50182109,\n",
       "        0.50327835, 0.50473561, 0.50619287, 0.50765013, 0.50910739,\n",
       "        0.51056465, 0.51202191, 0.51347916, 0.51493642, 0.51639368,\n",
       "        0.51785094, 0.5193082 , 0.52076546, 0.52222272, 0.52367998,\n",
       "        0.52513724, 0.5265945 , 0.52805176, 0.52950902, 0.53096628,\n",
       "        0.53242354, 0.5338808 , 0.53533805, 0.53679531, 0.53825257,\n",
       "        0.53970983, 0.54116709, 0.54262435, 0.54408161, 0.54553887,\n",
       "        0.54699613, 0.54845339, 0.54991065, 0.55136791, 0.55282517,\n",
       "        0.55428243, 0.55573969, 0.55719694, 0.5586542 , 0.56011146,\n",
       "        0.56156872, 0.56302598, 0.56448324, 0.5659405 , 0.56739776,\n",
       "        0.56885502, 0.57031228, 0.57176954, 0.5732268 , 0.57468406,\n",
       "        0.57614132, 0.57759858, 0.57905583, 0.58051309, 0.58197035,\n",
       "        0.58342761, 0.58488487, 0.58634213, 0.58779939, 0.58925665,\n",
       "        0.59071391, 0.59217117, 0.59362843, 0.59508569, 0.59654295,\n",
       "        0.59800021, 0.59945747, 0.60091473, 0.60237198, 0.60382924,\n",
       "        0.6052865 ]),\n",
       " <a list of 100 Patch objects>)"
      ]
     },
     "execution_count": 25,
     "metadata": {},
     "output_type": "execute_result"
    },
    {
     "data": {
      "image/png": "[encoded data removed]",
      "text/plain": [
       "<Figure size 432x288 with 1 Axes>"
      ]
     },
     "metadata": {
      "needs_background": "light"
     },
     "output_type": "display_data"
    }
   ],
   "source": [
    "samples = []\n",
    "update_cnt = 0\n",
    "x = 0.5\n",
    "for _ in range(N):\n",
    "    dt = (rng.random() - 0.5) * C * 2\n",
    "    if rng.random() < np.exp(s(x) - s(x + dt)):\n",
    "        x = x + dt\n",
    "        update_cnt += 1\n",
    "    samples.append(x)\n",
    "samples = np.array(samples)\n",
    "plt.hist(np.array(samples), bins=100, density=True)"
   ]
  },
  {
   "cell_type": "code",
   "execution_count": null,
   "id": "daf5d297-5668-4910-af79-d6450ec9c939",
   "metadata": {},
   "outputs": [],
   "source": []
  }
 ],
 "metadata": {
  "kernelspec": {
   "display_name": "Python 3 (ipykernel)",
   "language": "python",
   "name": "python3"
  },
  "language_info": {
   "codemirror_mode": {
    "name": "ipython",
    "version": 3
   },
   "file_extension": ".py",
   "mimetype": "text/x-python",
   "name": "python",
   "nbconvert_exporter": "python",
   "pygments_lexer": "ipython3",
   "version": "3.8.10"
  }
 },
 "nbformat": 4,
 "nbformat_minor": 5
}
