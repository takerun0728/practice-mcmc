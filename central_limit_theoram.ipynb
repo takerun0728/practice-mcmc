{
 "cells": [
  {
   "cell_type": "code",
   "execution_count": 1,
   "id": "d3daf591-b1dc-46fe-8727-c5362633a1d7",
   "metadata": {},
   "outputs": [],
   "source": [
    "import numpy as np\n",
    "import matplotlib.pyplot as plt"
   ]
  },
  {
   "cell_type": "code",
   "execution_count": 3,
   "id": "6bd59356-6109-4feb-8909-4f636204b77a",
   "metadata": {},
   "outputs": [],
   "source": [
    "K = 2\n",
    "N = 100000"
   ]
  },
  {
   "cell_type": "code",
   "execution_count": 4,
   "id": "c4b9f21f-a607-41bc-98c4-18a1bb914511",
   "metadata": {},
   "outputs": [
    {
     "name": "stderr",
     "output_type": "stream",
     "text": [
      "/tmp/ipykernel_39875/1297674682.py:3: MatplotlibDeprecationWarning: \n",
      "The 'normed' kwarg was deprecated in Matplotlib 2.1 and will be removed in 3.1. Use 'density' instead.\n",
      "  plt.hist(sum_randoms, bins=20, normed=True)\n"
     ]
    },
    {
     "data": {
      "text/plain": [
       "(array([0.05564994, 0.15080631, 0.2499735 , 0.34914068, 0.44199084,\n",
       "        0.56171341, 0.64373439, 0.74039482, 0.83795768, 0.96319511,\n",
       "        0.94915729, 0.85620685, 0.74440563, 0.66108113, 0.56321746,\n",
       "        0.44760597, 0.354455  , 0.24706566, 0.15672225, 0.05254156]),\n",
       " array([1.81859995e-03, 1.01549173e-01, 2.01279746e-01, 3.01010319e-01,\n",
       "        4.00740892e-01, 5.00471465e-01, 6.00202038e-01, 6.99932612e-01,\n",
       "        7.99663185e-01, 8.99393758e-01, 9.99124331e-01, 1.09885490e+00,\n",
       "        1.19858548e+00, 1.29831605e+00, 1.39804662e+00, 1.49777720e+00,\n",
       "        1.59750777e+00, 1.69723834e+00, 1.79696892e+00, 1.89669949e+00,\n",
       "        1.99643006e+00]),\n",
       " <a list of 20 Patch objects>)"
      ]
     },
     "execution_count": 4,
     "metadata": {},
     "output_type": "execute_result"
    },
    {
     "data": {
      "image/png": "[encoded data removed]",
      "text/plain": [
       "<Figure size 432x288 with 1 Axes>"
      ]
     },
     "metadata": {
      "needs_background": "light"
     },
     "output_type": "display_data"
    }
   ],
   "source": [
    "each_randoms = np.random.rand(K, N)\n",
    "sum_randoms = each_randoms.sum(axis=0)\n",
    "plt.hist(sum_randoms, bins=20, normed=True)"
   ]
  }
 ],
 "metadata": {
  "kernelspec": {
   "display_name": "Python 3 (ipykernel)",
   "language": "python",
   "name": "python3"
  },
  "language_info": {
   "codemirror_mode": {
    "name": "ipython",
    "version": 3
   },
   "file_extension": ".py",
   "mimetype": "text/x-python",
   "name": "python",
   "nbconvert_exporter": "python",
   "pygments_lexer": "ipython3",
   "version": "3.8.10"
  }
 },
 "nbformat": 4,
 "nbformat_minor": 5
}
