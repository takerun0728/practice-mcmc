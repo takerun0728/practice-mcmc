{
 "cells": [
  {
   "cell_type": "code",
   "execution_count": 7,
   "id": "07f8ae13-ed56-4d2b-824a-26826f5d13eb",
   "metadata": {},
   "outputs": [],
   "source": [
    "import numpy as np"
   ]
  },
  {
   "cell_type": "code",
   "execution_count": 53,
   "id": "6d02d344-e86c-437d-827a-0ae24802776a",
   "metadata": {},
   "outputs": [],
   "source": [
    "N = 100000000\n",
    "rng = np.random.default_rng()"
   ]
  },
  {
   "cell_type": "code",
   "execution_count": 62,
   "id": "cf269b37-54d0-490a-a1b2-19ea82433401",
   "metadata": {},
   "outputs": [
    {
     "data": {
      "text/plain": [
       "4.188564391896767"
      ]
     },
     "execution_count": 62,
     "metadata": {},
     "output_type": "execute_result"
    }
   ],
   "source": [
    "randoms = rng.random((2, N))\n",
    "f2 = 1 - randoms[0, :]**2 - randoms[1, :]**2\n",
    "f = np.sqrt(f2[f2 > 0])\n",
    "np.average(f) * 2 * np.pi"
   ]
  },
  {
   "cell_type": "code",
   "execution_count": 63,
   "id": "2073e7f4-12e3-426d-ac3e-f178677eb249",
   "metadata": {},
   "outputs": [
    {
     "data": {
      "text/plain": [
       "4.1887902047863905"
      ]
     },
     "execution_count": 63,
     "metadata": {},
     "output_type": "execute_result"
    }
   ],
   "source": [
    "np.pi * 4 / 3"
   ]
  },
  {
   "cell_type": "code",
   "execution_count": null,
   "id": "96286990-e94b-43bd-bcb4-a7c3660b17ce",
   "metadata": {},
   "outputs": [],
   "source": []
  }
 ],
 "metadata": {
  "kernelspec": {
   "display_name": "Python 3 (ipykernel)",
   "language": "python",
   "name": "python3"
  },
  "language_info": {
   "codemirror_mode": {
    "name": "ipython",
    "version": 3
   },
   "file_extension": ".py",
   "mimetype": "text/x-python",
   "name": "python",
   "nbconvert_exporter": "python",
   "pygments_lexer": "ipython3",
   "version": "3.8.10"
  }
 },
 "nbformat": 4,
 "nbformat_minor": 5
}
