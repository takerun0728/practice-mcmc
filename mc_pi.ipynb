{
 "cells": [
  {
   "cell_type": "code",
   "execution_count": 1,
   "id": "829270a3-bf51-4cb5-b23c-271bcc11a222",
   "metadata": {},
   "outputs": [],
   "source": [
    "import numpy as np"
   ]
  },
  {
   "cell_type": "code",
   "execution_count": 7,
   "id": "31ab66a4-dbf7-4db2-9c81-3a56d4a7b4d7",
   "metadata": {},
   "outputs": [],
   "source": [
    "N = 1000000000"
   ]
  },
  {
   "cell_type": "code",
   "execution_count": 4,
   "id": "5414f48c-0c45-46f2-8f4b-8a7b23814f49",
   "metadata": {},
   "outputs": [
    {
     "data": {
      "text/plain": [
       "3.14170832"
      ]
     },
     "execution_count": 4,
     "metadata": {},
     "output_type": "execute_result"
    }
   ],
   "source": [
    "randoms = np.random.rand(2, N)\n",
    "dists = randoms[0, :]**2 + randoms[1, :]**2\n",
    "in_circle = dists < 1\n",
    "np.count_nonzero(in_circle)/ N * 4"
   ]
  },
  {
   "cell_type": "code",
   "execution_count": 8,
   "id": "50f7cea4-fabc-4b53-aa42-f15ceaad9b24",
   "metadata": {},
   "outputs": [
    {
     "data": {
      "text/plain": [
       "3.1415668864426998"
      ]
     },
     "execution_count": 8,
     "metadata": {},
     "output_type": "execute_result"
    }
   ],
   "source": [
    "randoms = np.random.rand(N)\n",
    "f = np.sqrt(1 - randoms**2)\n",
    "np.average(f) * 4"
   ]
  },
  {
   "cell_type": "code",
   "execution_count": null,
   "id": "78002129-6b30-4d01-8791-3dbde1a3093b",
   "metadata": {},
   "outputs": [],
   "source": []
  }
 ],
 "metadata": {
  "kernelspec": {
   "display_name": "Python 3 (ipykernel)",
   "language": "python",
   "name": "python3"
  },
  "language_info": {
   "codemirror_mode": {
    "name": "ipython",
    "version": 3
   },
   "file_extension": ".py",
   "mimetype": "text/x-python",
   "name": "python",
   "nbconvert_exporter": "python",
   "pygments_lexer": "ipython3",
   "version": "3.8.10"
  }
 },
 "nbformat": 4,
 "nbformat_minor": 5
}
