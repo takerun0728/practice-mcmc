{
 "cells": [
  {
   "cell_type": "code",
   "execution_count": 1,
   "id": "674669a7-cd98-4970-913b-e79a53894514",
   "metadata": {},
   "outputs": [],
   "source": [
    "import numpy as np"
   ]
  },
  {
   "cell_type": "code",
   "execution_count": 23,
   "id": "253a2fc6-658b-4dbd-8af3-147b839db837",
   "metadata": {},
   "outputs": [],
   "source": [
    "L = 4\n",
    "J = 1\n",
    "K = 1/2\n",
    "H = 0\n",
    "BETA = 1"
   ]
  },
  {
   "cell_type": "code",
   "execution_count": 24,
   "id": "21c6597c-18c9-469d-8b8c-9f1fa3ea2334",
   "metadata": {},
   "outputs": [],
   "source": [
    "def netp(x, l):\n",
    "    return 2 * popcnt(x) - l"
   ]
  },
  {
   "cell_type": "code",
   "execution_count": 25,
   "id": "b70f2079-e6eb-4105-92cc-84776abf57fb",
   "metadata": {},
   "outputs": [],
   "source": [
    "def rol(x, n, l):\n",
    "    return (x << n | x >> (l - n)) & (0xFFFFFFFFFFFFFFFF >> (64 - l))"
   ]
  },
  {
   "cell_type": "code",
   "execution_count": 26,
   "id": "c7c22ba3-be72-43af-8a04-50329c6f6d07",
   "metadata": {},
   "outputs": [],
   "source": [
    "def popcnt(x):\n",
    "    return bin(x).count(\"1\")"
   ]
  },
  {
   "cell_type": "code",
   "execution_count": 27,
   "id": "7cee3b49-32af-4c3a-a986-f5a5fa01114d",
   "metadata": {},
   "outputs": [],
   "source": [
    "def vx(a, l, j, k, h):\n",
    "    return j * netp(a ^ rol(a, 1, l), l) - k * j * netp(a ^ rol(a, 2, l), l) - h * netp(a, l)"
   ]
  },
  {
   "cell_type": "code",
   "execution_count": 28,
   "id": "5bfef952-0fb3-4e63-863e-ebf4cea4484c",
   "metadata": {},
   "outputs": [],
   "source": [
    "def vz(a1, a2, l, j):\n",
    "    return j * netp(a1 ^ a2, l)"
   ]
  },
  {
   "cell_type": "code",
   "execution_count": 29,
   "id": "4909f663-e4f1-4221-aed5-4e94f4036402",
   "metadata": {},
   "outputs": [
    {
     "data": {
      "text/plain": [
       "168254163384.9476"
      ]
     },
     "execution_count": 29,
     "metadata": {},
     "output_type": "execute_result"
    }
   ],
   "source": [
    "xs = [[i, j, k, l] for i in range(2**L) for j in range(2**L) for k in range(2**L) for l in range(2**L)]\n",
    "es = []\n",
    "for x in xs:\n",
    "    e = 0\n",
    "    for r in x:\n",
    "        e += vx(r, L, J, K, H)\n",
    "    e += vz(x[-1], x[0], L, J)\n",
    "    e += vz(x[0], x[1], L, J)\n",
    "    e += vz(x[1], x[2], L, J)\n",
    "    e += vz(x[2], x[3], L, J)\n",
    "\n",
    "    es.append(e)\n",
    "es = np.array(es)\n",
    "np.sum(np.exp(-BETA * es))"
   ]
  },
  {
   "cell_type": "code",
   "execution_count": null,
   "id": "0456c1dc-47c4-4dc1-a1df-a35fa1eb7848",
   "metadata": {},
   "outputs": [],
   "source": []
  }
 ],
 "metadata": {
  "kernelspec": {
   "display_name": "Python 3 (ipykernel)",
   "language": "python",
   "name": "python3"
  },
  "language_info": {
   "codemirror_mode": {
    "name": "ipython",
    "version": 3
   },
   "file_extension": ".py",
   "mimetype": "text/x-python",
   "name": "python",
   "nbconvert_exporter": "python",
   "pygments_lexer": "ipython3",
   "version": "3.8.10"
  }
 },
 "nbformat": 4,
 "nbformat_minor": 5
}
